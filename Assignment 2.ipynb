{
 "cells": [
  {
   "cell_type": "markdown",
   "id": "sharp-generic",
   "metadata": {},
   "source": [
    "# Assignment 2\n",
    "\n",
    "Assignment 2 is about practising arrays, plotting and using while loops.  \n",
    "\n",
    "\n",
    "### Instructions\n",
    "\n",
    "1. Please use this notebook to code your solutions. \n",
    "\n",
    "2. __Any solutions copied off the web will be graded zero. Please read the question first and work out a solution on paper before you start coding.__"
   ]
  },
  {
   "cell_type": "code",
   "execution_count": null,
   "id": "bacterial-witch",
   "metadata": {},
   "outputs": [],
   "source": []
  },
  {
   "cell_type": "code",
   "execution_count": 60,
   "id": "metallic-canal",
   "metadata": {},
   "outputs": [],
   "source": [
    "# import necessary libraries\n",
    "\n",
    "import numpy as np\n",
    "import matplotlib.pyplot as plt"
   ]
  },
  {
   "cell_type": "markdown",
   "id": "deadly-grenada",
   "metadata": {},
   "source": [
    "### Question 1 Creating arrays"
   ]
  },
  {
   "cell_type": "markdown",
   "id": "cathedral-russell",
   "metadata": {},
   "source": [
    "(a) Use the `uniform` function in the `np.random` submodule to create an array with a 1000 values (floats) chosen uniformly at random in the interval [0,1)."
   ]
  },
  {
   "cell_type": "code",
   "execution_count": 62,
   "id": "protective-inside",
   "metadata": {},
   "outputs": [],
   "source": [
    "np.random.uniform?"
   ]
  },
  {
   "cell_type": "code",
   "execution_count": 6,
   "id": "curious-dimension",
   "metadata": {},
   "outputs": [],
   "source": [
    "# your answer\n",
    "\n",
    "x = np.random.uniform( low=0, high =1, size =1000)\n"
   ]
  },
  {
   "cell_type": "code",
   "execution_count": 7,
   "id": "affiliated-climate",
   "metadata": {},
   "outputs": [
    {
     "data": {
      "text/plain": [
       "array([0.61649248, 0.78759787, 0.58137258, 0.7129749 , 0.67614426,\n",
       "       0.8104669 , 0.40653156, 0.69217756, 0.80872308, 0.9841379 ,\n",
       "       0.30803524, 0.59437728, 0.35757373, 0.59403487, 0.04777751,\n",
       "       0.43679644, 0.32098869, 0.20218952, 0.34137765, 0.19761943,\n",
       "       0.22491883, 0.61854556, 0.62957352, 0.62742812, 0.69612093,\n",
       "       0.90287588, 0.87515574, 0.73944397, 0.28920347, 0.08278985,\n",
       "       0.65706666, 0.0599256 , 0.24416319, 0.22756797, 0.31441882,\n",
       "       0.02362526, 0.77244055, 0.23447187, 0.19554366, 0.07990229,\n",
       "       0.34937197, 0.43151701, 0.98779708, 0.60991208, 0.28075475,\n",
       "       0.03081805, 0.35242803, 0.58581315, 0.91593028, 0.82295894,\n",
       "       0.96303784, 0.90889368, 0.42423112, 0.94779095, 0.39922401,\n",
       "       0.76595569, 0.00289881, 0.54360623, 0.2334126 , 0.94378314,\n",
       "       0.66824952, 0.84459811, 0.07844326, 0.53962542, 0.81486415,\n",
       "       0.15370256, 0.08150235, 0.88951924, 0.77479107, 0.25906222,\n",
       "       0.41396569, 0.50632433, 0.04271816, 0.00272811, 0.22148032,\n",
       "       0.49650473, 0.06088091, 0.4660512 , 0.18088445, 0.77227896,\n",
       "       0.26324707, 0.38195334, 0.48712521, 0.7970017 , 0.34360228,\n",
       "       0.37681661, 0.88421801, 0.65901679, 0.96636328, 0.71588907,\n",
       "       0.72963437, 0.19137181, 0.88578155, 0.44315144, 0.32619642,\n",
       "       0.67823416, 0.16414235, 0.13466804, 0.60645211, 0.18582983,\n",
       "       0.18368476, 0.9660955 , 0.45707022, 0.82491053, 0.36202919,\n",
       "       0.69367308, 0.84768378, 0.56026315, 0.36605646, 0.62931197,\n",
       "       0.71823315, 0.35481852, 0.19851459, 0.59590005, 0.84776251,\n",
       "       0.84678294, 0.73840245, 0.48822145, 0.04572281, 0.5056297 ,\n",
       "       0.90686117, 0.60634899, 0.0262995 , 0.11630709, 0.14858213,\n",
       "       0.97952289, 0.89817888, 0.99126239, 0.2242792 , 0.66102056,\n",
       "       0.99504603, 0.8602091 , 0.8878341 , 0.47802031, 0.25535175,\n",
       "       0.64305781, 0.31975977, 0.21326778, 0.51905852, 0.20222033,\n",
       "       0.21783045, 0.83496907, 0.7350106 , 0.47011437, 0.41248577,\n",
       "       0.06963262, 0.57776727, 0.52583317, 0.06796103, 0.20699629,\n",
       "       0.77119336, 0.2448896 , 0.47739914, 0.91836363, 0.90596459,\n",
       "       0.95854551, 0.18913963, 0.98657872, 0.95019217, 0.82204269,\n",
       "       0.84648675, 0.30474708, 0.08913746, 0.0723568 , 0.20731206,\n",
       "       0.97999026, 0.8892019 , 0.59200195, 0.45186019, 0.43560487,\n",
       "       0.9096706 , 0.47644686, 0.78723325, 0.75071044, 0.17253274,\n",
       "       0.25549498, 0.40778787, 0.71160132, 0.45897451, 0.87862637,\n",
       "       0.60715235, 0.68950491, 0.20369315, 0.98565469, 0.63428162,\n",
       "       0.81455499, 0.69603606, 0.92304333, 0.66756796, 0.60468312,\n",
       "       0.67355438, 0.70853098, 0.97375841, 0.21254707, 0.97469274,\n",
       "       0.58225799, 0.98009039, 0.44964296, 0.87182031, 0.65240212,\n",
       "       0.44996295, 0.26921811, 0.99910156, 0.51864593, 0.99339267,\n",
       "       0.54930159, 0.43186754, 0.35499244, 0.22511007, 0.29631949,\n",
       "       0.6386454 , 0.30715081, 0.9223211 , 0.72131943, 0.25452252,\n",
       "       0.63471034, 0.48914067, 0.95876981, 0.23872579, 0.42401158,\n",
       "       0.89542015, 0.91791479, 0.57617674, 0.27242597, 0.46472545,\n",
       "       0.25818331, 0.05456898, 0.74493398, 0.05813836, 0.77427171,\n",
       "       0.23108112, 0.41787202, 0.88553841, 0.63428214, 0.38550075,\n",
       "       0.37395058, 0.51272556, 0.50829652, 0.40241783, 0.13871834,\n",
       "       0.51159382, 0.52562869, 0.48373055, 0.6975947 , 0.47788874,\n",
       "       0.12316893, 0.15790274, 0.77301258, 0.89047493, 0.9638689 ,\n",
       "       0.04866274, 0.25043888, 0.82006863, 0.36491412, 0.25772775,\n",
       "       0.20160232, 0.59309389, 0.60258575, 0.24501709, 0.28924714,\n",
       "       0.76109032, 0.32443102, 0.84200414, 0.3348365 , 0.1477464 ,\n",
       "       0.71255886, 0.82687129, 0.78645702, 0.28419751, 0.03173067,\n",
       "       0.55366439, 0.77782688, 0.70301613, 0.26090397, 0.12690011,\n",
       "       0.64220399, 0.3742291 , 0.68359851, 0.6534364 , 0.27603954,\n",
       "       0.38552596, 0.47732643, 0.71026905, 0.03614171, 0.45438508,\n",
       "       0.00160395, 0.62347333, 0.26641067, 0.45298081, 0.43699113,\n",
       "       0.35529525, 0.98933646, 0.82211145, 0.11414131, 0.03736797,\n",
       "       0.52774365, 0.03936012, 0.96458296, 0.51489712, 0.37441441,\n",
       "       0.33523526, 0.70838724, 0.59865187, 0.87246151, 0.22344387,\n",
       "       0.56966215, 0.08223865, 0.52425092, 0.16873806, 0.82268178,\n",
       "       0.80528087, 0.91221637, 0.28035882, 0.38783203, 0.3452685 ,\n",
       "       0.84322078, 0.92568078, 0.43519143, 0.52059383, 0.09703432,\n",
       "       0.81756053, 0.96159713, 0.42605047, 0.64649922, 0.7991445 ,\n",
       "       0.35898541, 0.36233033, 0.16504158, 0.50720371, 0.31150092,\n",
       "       0.73088263, 0.47715773, 0.6575678 , 0.75920034, 0.59791678,\n",
       "       0.16170969, 0.47673369, 0.25783117, 0.70218958, 0.11414461,\n",
       "       0.1890882 , 0.61767343, 0.22266761, 0.23162938, 0.05278966,\n",
       "       0.25840977, 0.51752219, 0.21392232, 0.42969838, 0.51522447,\n",
       "       0.5230264 , 0.15377548, 0.70875713, 0.40825193, 0.75822151,\n",
       "       0.52256958, 0.83211453, 0.87339627, 0.12824186, 0.44640185,\n",
       "       0.90695184, 0.29977384, 0.47600671, 0.18557247, 0.32890216,\n",
       "       0.1727094 , 0.44735864, 0.58824441, 0.06805945, 0.79624836,\n",
       "       0.29749511, 0.70246692, 0.58448698, 0.25424184, 0.41128211,\n",
       "       0.27992056, 0.08638939, 0.93677164, 0.91536085, 0.7457106 ,\n",
       "       0.83415048, 0.85566739, 0.68193962, 0.51252434, 0.51025577,\n",
       "       0.8811395 , 0.18796433, 0.44083613, 0.10307869, 0.05837568,\n",
       "       0.66770756, 0.08603439, 0.67152203, 0.4418343 , 0.39412531,\n",
       "       0.21073484, 0.22104796, 0.80811504, 0.39866161, 0.8108723 ,\n",
       "       0.67859165, 0.29322424, 0.01594598, 0.39510955, 0.31466192,\n",
       "       0.51033495, 0.62743227, 0.4972659 , 0.27818292, 0.90505282,\n",
       "       0.40490959, 0.10990075, 0.14281818, 0.02326721, 0.46604115,\n",
       "       0.3841495 , 0.69556004, 0.67349471, 0.13701815, 0.35495665,\n",
       "       0.86241565, 0.88058288, 0.60902434, 0.97107666, 0.1025579 ,\n",
       "       0.17216281, 0.93451503, 0.64933875, 0.99839329, 0.52078697,\n",
       "       0.01300513, 0.96223328, 0.79085107, 0.5066102 , 0.87428135,\n",
       "       0.17803095, 0.27063524, 0.41625442, 0.49536895, 0.54494666,\n",
       "       0.90335425, 0.71153734, 0.29197237, 0.28112632, 0.94965835,\n",
       "       0.76409967, 0.8591009 , 0.61287117, 0.01981401, 0.49483016,\n",
       "       0.43435822, 0.72261635, 0.48532332, 0.0158305 , 0.48970046,\n",
       "       0.62363969, 0.5543006 , 0.15001646, 0.48932883, 0.92459242,\n",
       "       0.19155717, 0.92431097, 0.10700083, 0.95279461, 0.13779868,\n",
       "       0.23603095, 0.85138676, 0.68695795, 0.36855017, 0.74415546,\n",
       "       0.63162002, 0.40138704, 0.79953461, 0.02624423, 0.32412467,\n",
       "       0.33224602, 0.02481805, 0.27449159, 0.42397239, 0.01429771,\n",
       "       0.8725898 , 0.0999928 , 0.58440291, 0.30484259, 0.76411694,\n",
       "       0.67531209, 0.85133797, 0.6980385 , 0.45889383, 0.96854705,\n",
       "       0.1248182 , 0.21988756, 0.54860889, 0.08530692, 0.00316973,\n",
       "       0.68177159, 0.83686545, 0.37404066, 0.94851776, 0.45167825,\n",
       "       0.4300652 , 0.86032827, 0.34966181, 0.28438923, 0.97444268,\n",
       "       0.16089746, 0.49043719, 0.16079106, 0.20969569, 0.78282516,\n",
       "       0.03147085, 0.10962185, 0.974427  , 0.51248572, 0.21719906,\n",
       "       0.59908448, 0.51115677, 0.20384285, 0.08424686, 0.77723371,\n",
       "       0.43000878, 0.7181685 , 0.56867846, 0.49760883, 0.79192505,\n",
       "       0.8106644 , 0.43134359, 0.65637895, 0.94630644, 0.97861077,\n",
       "       0.96727793, 0.67409188, 0.62286877, 0.22174991, 0.65200115,\n",
       "       0.9707472 , 0.04928952, 0.21823612, 0.64057087, 0.92060069,\n",
       "       0.93051556, 0.51734677, 0.33497087, 0.32813367, 0.29806356,\n",
       "       0.54217068, 0.23037764, 0.38185567, 0.0226105 , 0.97423874,\n",
       "       0.01877751, 0.51904324, 0.91245146, 0.47109668, 0.73022752,\n",
       "       0.45720248, 0.60361002, 0.5209457 , 0.36135441, 0.10198208,\n",
       "       0.59225244, 0.56046961, 0.39639211, 0.38820617, 0.77801658,\n",
       "       0.72713754, 0.6567073 , 0.13150231, 0.63234456, 0.54964452,\n",
       "       0.61139134, 0.05934132, 0.13042894, 0.33018489, 0.89801079,\n",
       "       0.9213995 , 0.63005725, 0.70226947, 0.93152112, 0.38600359,\n",
       "       0.19762248, 0.22978813, 0.59958798, 0.72284994, 0.27788422,\n",
       "       0.7852854 , 0.549572  , 0.59644358, 0.15242573, 0.70102994,\n",
       "       0.19166023, 0.53223138, 0.03868515, 0.15730755, 0.35735541,\n",
       "       0.83293711, 0.71532775, 0.34778439, 0.83596252, 0.31867674,\n",
       "       0.95994514, 0.59149969, 0.02942795, 0.48379452, 0.26736572,\n",
       "       0.7280568 , 0.85245932, 0.77361165, 0.97440021, 0.64893048,\n",
       "       0.84896971, 0.22432455, 0.46935674, 0.35274871, 0.04628965,\n",
       "       0.88096521, 0.10687   , 0.27295049, 0.65563568, 0.12906432,\n",
       "       0.51924371, 0.43932213, 0.75296903, 0.46111402, 0.68234829,\n",
       "       0.54832761, 0.5286852 , 0.10900767, 0.10865104, 0.35342887,\n",
       "       0.12178521, 0.39844049, 0.18993214, 0.96802115, 0.22384021,\n",
       "       0.12836625, 0.10939029, 0.188651  , 0.58222438, 0.5644764 ,\n",
       "       0.59904523, 0.83116868, 0.71829539, 0.08940669, 0.20506351,\n",
       "       0.58992478, 0.31444465, 0.98045689, 0.78441304, 0.66991108,\n",
       "       0.36888209, 0.30931736, 0.27157061, 0.13607611, 0.14582723,\n",
       "       0.08531659, 0.57096429, 0.16021225, 0.08484775, 0.08017574,\n",
       "       0.04092041, 0.50768182, 0.31509223, 0.96303763, 0.69598323,\n",
       "       0.35423896, 0.54263063, 0.68108135, 0.08604153, 0.46601994,\n",
       "       0.1220781 , 0.43698483, 0.96373093, 0.49195204, 0.31250146,\n",
       "       0.94642514, 0.56804333, 0.21272516, 0.20579819, 0.72016127,\n",
       "       0.8292074 , 0.32847069, 0.59808582, 0.49939775, 0.70659984,\n",
       "       0.39040454, 0.33807477, 0.75409301, 0.01539416, 0.16853622,\n",
       "       0.50287502, 0.6471003 , 0.69667965, 0.69217433, 0.30602033,\n",
       "       0.35769887, 0.26063735, 0.10009515, 0.35068009, 0.55971823,\n",
       "       0.19994227, 0.47095271, 0.33214269, 0.01741385, 0.07019402,\n",
       "       0.15592026, 0.7768932 , 0.68572335, 0.59173005, 0.40044184,\n",
       "       0.27703424, 0.53983799, 0.84853308, 0.57447078, 0.58307035,\n",
       "       0.95075744, 0.81323152, 0.98174758, 0.17668382, 0.53288614,\n",
       "       0.71913033, 0.03001341, 0.16827857, 0.13868522, 0.72313022,\n",
       "       0.7889123 , 0.8069131 , 0.55854127, 0.13653847, 0.13950861,\n",
       "       0.3608547 , 0.99009254, 0.48011273, 0.47995049, 0.60555121,\n",
       "       0.48403138, 0.09015886, 0.76498751, 0.01530201, 0.73557276,\n",
       "       0.63010063, 0.22812439, 0.0665452 , 0.98031121, 0.45676385,\n",
       "       0.29353346, 0.3647674 , 0.11927872, 0.7973399 , 0.45579939,\n",
       "       0.09665359, 0.62322759, 0.24257178, 0.97699672, 0.01981351,\n",
       "       0.56212939, 0.15707361, 0.50624325, 0.49758461, 0.41390775,\n",
       "       0.84145828, 0.13386389, 0.66495591, 0.13518271, 0.14337089,\n",
       "       0.29429606, 0.87089104, 0.62074545, 0.916257  , 0.94052885,\n",
       "       0.33952496, 0.13893187, 0.87503083, 0.88002455, 0.61587384,\n",
       "       0.2999715 , 0.29580892, 0.76998463, 0.55586346, 0.19850233,\n",
       "       0.86728483, 0.53332671, 0.26666583, 0.91313541, 0.27477882,\n",
       "       0.06715887, 0.68297892, 0.13302574, 0.57012697, 0.18306838,\n",
       "       0.48876949, 0.65368801, 0.79144002, 0.43886984, 0.38368561,\n",
       "       0.99209622, 0.00836182, 0.05513045, 0.59290715, 0.78516485,\n",
       "       0.39159931, 0.51555649, 0.85731122, 0.97260161, 0.26169748,\n",
       "       0.45643369, 0.6663199 , 0.09716029, 0.86371544, 0.91372424,\n",
       "       0.37567716, 0.05620307, 0.85565724, 0.04516513, 0.22627209,\n",
       "       0.85763821, 0.68386001, 0.40756555, 0.45311004, 0.86360926,\n",
       "       0.35396422, 0.88342932, 0.0210465 , 0.05125761, 0.47953006,\n",
       "       0.73343641, 0.49564968, 0.02219275, 0.09898586, 0.17980015,\n",
       "       0.9955624 , 0.91493329, 0.1699974 , 0.6632501 , 0.85586384,\n",
       "       0.93167129, 0.85842969, 0.27938674, 0.67409024, 0.98621624,\n",
       "       0.96306146, 0.21862011, 0.1385095 , 0.85605172, 0.64697261,\n",
       "       0.47128447, 0.71439029, 0.58346173, 0.75382786, 0.91544903,\n",
       "       0.90374909, 0.70499735, 0.66889221, 0.97544467, 0.67944912,\n",
       "       0.72239068, 0.21319273, 0.16043143, 0.61019955, 0.41455135,\n",
       "       0.75286598, 0.12523996, 0.07676739, 0.01707739, 0.5487087 ,\n",
       "       0.20387579, 0.38273022, 0.97086525, 0.17956856, 0.29221837,\n",
       "       0.00363665, 0.75251382, 0.60063666, 0.88504415, 0.05402303,\n",
       "       0.52386548, 0.54272527, 0.31207829, 0.37281341, 0.65240936,\n",
       "       0.08298482, 0.67919212, 0.67887394, 0.42322072, 0.16719069,\n",
       "       0.83626565, 0.58645185, 0.57753936, 0.23034381, 0.69790597,\n",
       "       0.99754145, 0.53692911, 0.41866027, 0.33035294, 0.33888337,\n",
       "       0.21411428, 0.34656013, 0.60836104, 0.29561826, 0.35600545,\n",
       "       0.46824747, 0.72803652, 0.96165974, 0.63647773, 0.33324731,\n",
       "       0.73508233, 0.46097485, 0.95787918, 0.98165688, 0.44699083,\n",
       "       0.96688755, 0.13570615, 0.09459166, 0.67332974, 0.30373901,\n",
       "       0.58585452, 0.20878172, 0.86769187, 0.95512776, 0.75025845,\n",
       "       0.58418952, 0.84595098, 0.44197083, 0.53730631, 0.22178973,\n",
       "       0.57998753, 0.42978979, 0.06158832, 0.94343939, 0.17331211,\n",
       "       0.78719132, 0.98560744, 0.95771521, 0.96787345, 0.93161545,\n",
       "       0.21134697, 0.07060078, 0.9509039 , 0.57190483, 0.08623918,\n",
       "       0.02319003, 0.91302715, 0.33997257, 0.87898654, 0.96287283,\n",
       "       0.90234273, 0.60774019, 0.37858939, 0.97018106, 0.87999791,\n",
       "       0.58689053, 0.00840269, 0.10867639, 0.03814993, 0.88324784,\n",
       "       0.32341282, 0.86724996, 0.81587732, 0.19381923, 0.54868358,\n",
       "       0.54717127, 0.71826624, 0.69626549, 0.58364224, 0.01061915,\n",
       "       0.83036179, 0.94892425, 0.29488755, 0.36337851, 0.9272184 ,\n",
       "       0.08622981, 0.44458811, 0.20535531, 0.15273514, 0.92998229,\n",
       "       0.56060709, 0.17205551, 0.95420994, 0.25613214, 0.80984655,\n",
       "       0.41483542, 0.73563152, 0.96147428, 0.18980953, 0.37742922,\n",
       "       0.64120761, 0.29463535, 0.53269806, 0.38845243, 0.52584501,\n",
       "       0.48949819, 0.90637639, 0.28756754, 0.68763891, 0.24447561,\n",
       "       0.62118867, 0.08897235, 0.3861269 , 0.95162705, 0.16048991])"
      ]
     },
     "execution_count": 7,
     "metadata": {},
     "output_type": "execute_result"
    }
   ],
   "source": [
    "x"
   ]
  },
  {
   "cell_type": "markdown",
   "id": "disciplinary-north",
   "metadata": {},
   "source": [
    "(b) Create a $4 \\times 5$ array of uniformly distributed values in the interval [-2,2)."
   ]
  },
  {
   "cell_type": "code",
   "execution_count": 10,
   "id": "occupied-arnold",
   "metadata": {},
   "outputs": [],
   "source": [
    "#help(np.random.uniform)"
   ]
  },
  {
   "cell_type": "code",
   "execution_count": 13,
   "id": "amber-minnesota",
   "metadata": {},
   "outputs": [],
   "source": [
    "# your answer\n",
    "\n",
    "y = np.random.uniform(-2, 2, size = (4,5))\n"
   ]
  },
  {
   "cell_type": "code",
   "execution_count": 12,
   "id": "therapeutic-delta",
   "metadata": {},
   "outputs": [
    {
     "data": {
      "text/plain": [
       "array([[ 1.96142982,  0.78170747,  1.33799332, -0.8839665 , -0.34872306],\n",
       "       [ 0.47184623,  1.33397404,  1.62518116,  0.50843045,  1.7227183 ],\n",
       "       [-0.23579597,  0.26935537, -0.81764231,  0.61458255,  1.40216775],\n",
       "       [ 1.5745164 ,  1.02131385,  1.18225181, -1.80332845, -1.63309664]])"
      ]
     },
     "execution_count": 12,
     "metadata": {},
     "output_type": "execute_result"
    }
   ],
   "source": [
    "y"
   ]
  },
  {
   "cell_type": "markdown",
   "id": "regulation-shareware",
   "metadata": {},
   "source": [
    "### Question 2 Using array operations"
   ]
  },
  {
   "cell_type": "markdown",
   "id": "modified-parts",
   "metadata": {},
   "source": [
    "We'll practice how to normalise and standardise elements of an array. Create a $5\\times5$ array with random numbers. "
   ]
  },
  {
   "cell_type": "markdown",
   "id": "surface-beauty",
   "metadata": {},
   "source": [
    "(a) To normalise array values, apply the following formula to each array entry:\n",
    "\n",
    "$$z_i = \\dfrac{x_i - \\min(x)}{\\max(x) - \\min(x)}.$$\n",
    "\n",
    "The result is an array with entries between zero and one. Confirm this is the case."
   ]
  },
  {
   "cell_type": "code",
   "execution_count": 7,
   "id": "exclusive-barrel",
   "metadata": {},
   "outputs": [],
   "source": [
    "# your answer\n",
    "import numpy as np"
   ]
  },
  {
   "cell_type": "code",
   "execution_count": 32,
   "id": "disciplinary-rebel",
   "metadata": {},
   "outputs": [],
   "source": [
    "x = np.random.uniform(0,2, (5,5))"
   ]
  },
  {
   "cell_type": "code",
   "execution_count": 33,
   "id": "adaptive-screen",
   "metadata": {},
   "outputs": [
    {
     "data": {
      "text/plain": [
       "array([[1.44584024e+00, 1.94658166e+00, 4.64054238e-01, 4.59566418e-01,\n",
       "        1.67131629e+00],\n",
       "       [1.39439925e+00, 2.14771133e-04, 1.65588849e+00, 6.98174433e-01,\n",
       "        1.38828373e-01],\n",
       "       [1.29218502e+00, 1.67928886e-01, 1.35708561e+00, 3.81954765e-01,\n",
       "        8.03868181e-01],\n",
       "       [6.86030975e-01, 1.01117024e+00, 4.86551642e-01, 5.73732383e-01,\n",
       "        9.61171816e-01],\n",
       "       [5.85266926e-02, 6.15664037e-02, 7.89322036e-01, 1.11878709e+00,\n",
       "        6.62364915e-01]])"
      ]
     },
     "execution_count": 33,
     "metadata": {},
     "output_type": "execute_result"
    }
   ],
   "source": [
    "x"
   ]
  },
  {
   "cell_type": "code",
   "execution_count": 48,
   "id": "affected-jacksonville",
   "metadata": {},
   "outputs": [
    {
     "data": {
      "text/plain": [
       "0.000214771132522662"
      ]
     },
     "execution_count": 48,
     "metadata": {},
     "output_type": "execute_result"
    }
   ],
   "source": [
    "#min?\n",
    "#max?\n",
    "\n",
    "np.min(x)"
   ]
  },
  {
   "cell_type": "code",
   "execution_count": 49,
   "id": "substantial-indian",
   "metadata": {},
   "outputs": [
    {
     "data": {
      "text/plain": [
       "1.9465816587401943"
      ]
     },
     "execution_count": 49,
     "metadata": {},
     "output_type": "execute_result"
    }
   ],
   "source": [
    "np.max(x)"
   ]
  },
  {
   "cell_type": "code",
   "execution_count": 50,
   "id": "geological-mississippi",
   "metadata": {},
   "outputs": [],
   "source": [
    "z = (x-np.min(x))/(np.max(x)-np.min(x))"
   ]
  },
  {
   "cell_type": "code",
   "execution_count": 51,
   "id": "dated-brunswick",
   "metadata": {},
   "outputs": [
    {
     "data": {
      "text/plain": [
       "array([[0.7427302 , 1.        , 0.2383104 , 0.23600466, 0.85857478],\n",
       "       [0.71630097, 0.        , 0.85064832, 0.35859614, 0.07121658],\n",
       "       [0.66378557, 0.08616778, 0.69713005, 0.19612952, 0.41289924],\n",
       "       [0.35235711, 0.51940643, 0.24986906, 0.29466059, 0.49371835],\n",
       "       [0.02995937, 0.0315211 , 0.40542576, 0.57469757, 0.34019801]])"
      ]
     },
     "execution_count": 51,
     "metadata": {},
     "output_type": "execute_result"
    }
   ],
   "source": [
    "z"
   ]
  },
  {
   "cell_type": "markdown",
   "id": "daily-husband",
   "metadata": {},
   "source": [
    "(b) To standardise array values, apply the following formula to each array entry: \n",
    "\n",
    "$$z_i = \\dfrac{x_i - \\overline{x}}{std}\\ ,$$ where $\\overline{x}$ is the sample mean and $std$ the standard deviation.\n",
    "\n",
    "The result is an array with entries that have mean zero and variance one. Confirm this is the case."
   ]
  },
  {
   "cell_type": "code",
   "execution_count": 14,
   "id": "inappropriate-junction",
   "metadata": {},
   "outputs": [],
   "source": [
    "# your answer\n",
    "\n",
    "#x.mean?\n",
    "#np.mean?\n",
    "np.std?"
   ]
  },
  {
   "cell_type": "code",
   "execution_count": 52,
   "id": "endless-attendance",
   "metadata": {},
   "outputs": [
    {
     "data": {
      "text/plain": [
       "0.8114844323842233"
      ]
     },
     "execution_count": 52,
     "metadata": {},
     "output_type": "execute_result"
    }
   ],
   "source": [
    "np.mean(x)"
   ]
  },
  {
   "cell_type": "code",
   "execution_count": 53,
   "id": "korean-platinum",
   "metadata": {},
   "outputs": [
    {
     "data": {
      "text/plain": [
       "0.5464456978218045"
      ]
     },
     "execution_count": 53,
     "metadata": {},
     "output_type": "execute_result"
    }
   ],
   "source": [
    "np.std(x)"
   ]
  },
  {
   "cell_type": "code",
   "execution_count": 55,
   "id": "european-american",
   "metadata": {},
   "outputs": [],
   "source": [
    "z = (x-x.mean())/(x.std())"
   ]
  },
  {
   "cell_type": "code",
   "execution_count": 56,
   "id": "artistic-romania",
   "metadata": {},
   "outputs": [
    {
     "data": {
      "text/plain": [
       "array([[ 1.1608762 ,  2.07723701, -0.63580004, -0.64401278,  1.57349918],\n",
       "       [ 1.06673878, -1.48462997,  1.54526618, -0.20735821, -1.23096597],\n",
       "       [ 0.87968592, -1.1777118 ,  0.99845452, -0.78604273, -0.0139378 ],\n",
       "       [-0.22958083,  0.36542663, -0.59462961, -0.43508815,  0.27392911],\n",
       "       [-1.37791869, -1.37235599, -0.04055736,  0.56236631, -0.27288991]])"
      ]
     },
     "execution_count": 56,
     "metadata": {},
     "output_type": "execute_result"
    }
   ],
   "source": [
    "z"
   ]
  },
  {
   "cell_type": "code",
   "execution_count": 57,
   "id": "fiscal-poison",
   "metadata": {},
   "outputs": [
    {
     "data": {
      "text/plain": [
       "1.0"
      ]
     },
     "execution_count": 57,
     "metadata": {},
     "output_type": "execute_result"
    }
   ],
   "source": [
    "variance = z.std()**2\n",
    "variance"
   ]
  },
  {
   "cell_type": "code",
   "execution_count": null,
   "id": "light-serve",
   "metadata": {},
   "outputs": [],
   "source": []
  },
  {
   "cell_type": "markdown",
   "id": "hungarian-perfume",
   "metadata": {},
   "source": [
    "### Question 3 Plotting with arrays\n",
    "Plot the following curves on the same plot: $y=sin(x)$, $y=cos(x)$, and $y = cos(x - \\frac{\\pi}{4})$.  Remember to label the plot axes. Use the the [`plot() documentation`](http://matplotlib.org/api/pyplot_api.html#matplotlib.pyplot.plot) to help you. Save the plot as `waves.png`. Submit the file too."
   ]
  },
  {
   "cell_type": "code",
   "execution_count": 61,
   "id": "manufactured-dancing",
   "metadata": {},
   "outputs": [],
   "source": [
    "#np.linspace?\n",
    "plt.plot?"
   ]
  },
  {
   "cell_type": "code",
   "execution_count": 62,
   "id": "transsexual-radio",
   "metadata": {},
   "outputs": [],
   "source": [
    "x = np.linspace(0,10,100)\n"
   ]
  },
  {
   "cell_type": "code",
   "execution_count": 63,
   "id": "norman-factory",
   "metadata": {},
   "outputs": [],
   "source": [
    "y_1 = np.sin(x)\n",
    "y_2 = np.cos(x)\n",
    "y_3 = np.cos(x-(np.pi/4))"
   ]
  },
  {
   "cell_type": "code",
   "execution_count": 74,
   "id": "electoral-milwaukee",
   "metadata": {},
   "outputs": [
    {
     "data": {
      "image/png": "[encoded data removed]",
      "text/plain": [
       "<Figure size 1152x576 with 1 Axes>"
      ]
     },
     "metadata": {
      "needs_background": "light"
     },
     "output_type": "display_data"
    }
   ],
   "source": [
    "plt.figure(figsize=(16,8))\n",
    "plt.title('Graphs of y1, y2, y3')\n",
    "plt.plot(x, y_1, 'b', label = '$sin(x)$')\n",
    "plt.plot(x, y_2, 'y', label = '$cos(x)$')\n",
    "plt.plot(x, y_3, 'g', label = '$cos(x-\\pi/4)$')\n",
    "plt.legend()\n",
    "\n",
    "plt.xlabel('x')\n",
    "plt.ylabel('y')\n",
    "\n",
    "plt.savefig('waves.png')"
   ]
  },
  {
   "cell_type": "code",
   "execution_count": null,
   "id": "educational-citizenship",
   "metadata": {},
   "outputs": [],
   "source": []
  },
  {
   "cell_type": "code",
   "execution_count": null,
   "id": "identified-removal",
   "metadata": {},
   "outputs": [],
   "source": []
  },
  {
   "cell_type": "code",
   "execution_count": null,
   "id": "confident-jacksonville",
   "metadata": {},
   "outputs": [],
   "source": []
  },
  {
   "cell_type": "markdown",
   "id": "usual-rebel",
   "metadata": {},
   "source": [
    "### Question 4 Using while loops\n",
    "\n",
    "Use a while loop to implement a linear search. We want to search for a given search key in a given list by checking successive elements in the list until either a match with the search key is found or we get to the end of the list without finding the search key. Use the list and the search key given below."
   ]
  },
  {
   "cell_type": "code",
   "execution_count": 2,
   "id": "lonely-brisbane",
   "metadata": {},
   "outputs": [],
   "source": [
    "la = [3, 6, 5, \"test\", \"spam\", 10.00, 2+8j]\n",
    "search_key = \"test\"   # search key\n",
    "n = len(la)"
   ]
  },
  {
   "cell_type": "code",
   "execution_count": 4,
   "id": "persistent-background",
   "metadata": {},
   "outputs": [
    {
     "data": {
      "text/plain": [
       "7"
      ]
     },
     "execution_count": 4,
     "metadata": {},
     "output_type": "execute_result"
    }
   ],
   "source": [
    "n"
   ]
  },
  {
   "cell_type": "code",
   "execution_count": 3,
   "id": "common-portugal",
   "metadata": {},
   "outputs": [],
   "source": [
    "# your answer"
   ]
  },
  {
   "cell_type": "code",
   "execution_count": 80,
   "id": "initial-sharp",
   "metadata": {},
   "outputs": [
    {
     "name": "stdout",
     "output_type": "stream",
     "text": [
      "keep looking through the list\n",
      "keep looking through the list\n",
      "keep looking through the list\n",
      "I found the search key at position 3\n",
      "keep looking through the list\n",
      "keep looking through the list\n",
      "keep looking through the list\n"
     ]
    }
   ],
   "source": [
    "i = 0\n",
    "while i<n:\n",
    "    #print(i, la[i])\n",
    "    if la[i] == search_key:\n",
    "        print(\"I found the search key at position\", i)\n",
    "        \n",
    "    else:\n",
    "        print(\"keep looking through the list\")\n",
    "    i += 1\n",
    "    "
   ]
  },
  {
   "cell_type": "code",
   "execution_count": null,
   "id": "dynamic-detection",
   "metadata": {},
   "outputs": [],
   "source": []
  }
 ],
 "metadata": {
  "kernelspec": {
   "display_name": "Python 3",
   "language": "python",
   "name": "python3"
  },
  "language_info": {
   "codemirror_mode": {
    "name": "ipython",
    "version": 3
   },
   "file_extension": ".py",
   "mimetype": "text/x-python",
   "name": "python",
   "nbconvert_exporter": "python",
   "pygments_lexer": "ipython3",
   "version": "3.9.2"
  }
 },
 "nbformat": 4,
 "nbformat_minor": 5
}
